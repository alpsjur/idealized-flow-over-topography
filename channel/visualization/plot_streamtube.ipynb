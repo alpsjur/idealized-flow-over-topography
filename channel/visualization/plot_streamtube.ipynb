{
 "cells": [
  {
   "cell_type": "code",
   "execution_count": null,
   "metadata": {},
   "outputs": [],
   "source": [
    "import plotly.graph_objects as go\n",
    "import xarray as xr\n",
    "import numpy as np"
   ]
  },
  {
   "cell_type": "code",
   "execution_count": null,
   "metadata": {},
   "outputs": [],
   "source": [
    "file = \"../data/3D_channel_nostrat\"\n",
    "\n",
    "ds = xr.open_dataset(file+\".nc\")\n",
    "ds = ds.isel(time=-1, xC=slice(4,-4), xF=slice(4,-4), yC=slice(4,-4), yF=slice(4,-4))\n",
    "ds"
   ]
  },
  {
   "cell_type": "code",
   "execution_count": null,
   "metadata": {},
   "outputs": [],
   "source": [
    "h = xr.open_dataarray(file+\"_bottom_height.nc\").isel(xC=slice(4,-4), yC=slice(4,-4))\n",
    "\n",
    "x = h.xC.values*1e-3\n",
    "y = h.yC.values*1e-3\n",
    "z = ds.zC.values\n",
    "\n",
    "X, Y = np.meshgrid(x, y)\n",
    "Z = h.values.squeeze()"
   ]
  },
  {
   "cell_type": "code",
   "execution_count": null,
   "metadata": {},
   "outputs": [],
   "source": [
    "fig = go.Figure(data=[go.Surface(x=X, y=Y,z=Z, \n",
    "                                 colorscale=[(0, 'gray'), (1, 'gray')], \n",
    "                                 opacity=0.5,\n",
    "                                 showscale=False\n",
    "                                 )\n",
    "                      ]\n",
    "                )\n",
    "fig.update_traces(contours_z=dict(\n",
    "                                  show=True, \n",
    "                                  #usecolormap=True,\n",
    "                                  #project_z=True\n",
    "                                  )\n",
    "                  )"
   ]
  },
  {
   "cell_type": "code",
   "execution_count": null,
   "metadata": {},
   "outputs": [],
   "source": [
    "eta = ds.eta.values\n",
    "\n",
    "# scale eta to show up on \n",
    "eta = eta/np.max(np.abs(eta.flatten()))*100\n",
    "\n",
    "fig.add_trace(go.Surface(z=eta, x=X, y=Y, \n",
    "                         colorscale='deep_r', \n",
    "                         showscale=False,\n",
    "                         \n",
    "                         )\n",
    "              )\n",
    "\n",
    "fig.update_layout(title='Streamtubes', \n",
    "                  autosize=False,\n",
    "                  template=\"plotly\",\n",
    "                  scene=dict(\n",
    "        xaxis=dict(range=[min(x), max(x)], title='x [km]'),  \n",
    "        yaxis=dict(range=[min(y), max(y)], title='y [km]'),  \n",
    "        zaxis=dict(range=[min(Z.flatten())*1.1, 100], title='Depth [m]') \n",
    "    )\n",
    ")"
   ]
  },
  {
   "cell_type": "code",
   "execution_count": null,
   "metadata": {},
   "outputs": [],
   "source": [
    "u = ds.u.values\n",
    "v = ds.v.values\n",
    "w = ds.w.values\n",
    "\n",
    "fig.add_trace(go.Streamtube(x=x.flatten(), y=y.flatten(), z=z.flatten(),\n",
    "                            u=u.flatten(), v=v.flatten(), w=w.flatten(),\n",
    "                            starts = dict(\n",
    "                                            x = [1, 1, 1],\n",
    "                                            y = [400, 500, 600],\n",
    "                                            z = [-10, -10, -10]\n",
    "                                        )\n",
    "                            )\n",
    "              )           "
   ]
  },
  {
   "cell_type": "code",
   "execution_count": null,
   "metadata": {},
   "outputs": [],
   "source": []
  }
 ],
 "metadata": {
  "kernelspec": {
   "display_name": "idealized-flow-over-topography",
   "language": "python",
   "name": "python3"
  },
  "language_info": {
   "codemirror_mode": {
    "name": "ipython",
    "version": 3
   },
   "file_extension": ".py",
   "mimetype": "text/x-python",
   "name": "python",
   "nbconvert_exporter": "python",
   "pygments_lexer": "ipython3",
   "version": "3.12.1"
  }
 },
 "nbformat": 4,
 "nbformat_minor": 2
}
