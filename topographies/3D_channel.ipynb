{
 "cells": [
  {
   "cell_type": "code",
   "execution_count": 26,
   "metadata": {},
   "outputs": [],
   "source": [
    "import plotly.graph_objects as go\n",
    "import numpy as np\n",
    "import feather"
   ]
  },
  {
   "cell_type": "code",
   "execution_count": 30,
   "metadata": {},
   "outputs": [
    {
     "data": {
      "text/html": [
       "<div><svg style=\"position: absolute; width: 0; height: 0; overflow: hidden\">\n",
       "<defs>\n",
       "<symbol id=\"icon-database\" viewBox=\"0 0 32 32\">\n",
       "<path d=\"M16 0c-8.837 0-16 2.239-16 5v4c0 2.761 7.163 5 16 5s16-2.239 16-5v-4c0-2.761-7.163-5-16-5z\"></path>\n",
       "<path d=\"M16 17c-8.837 0-16-2.239-16-5v6c0 2.761 7.163 5 16 5s16-2.239 16-5v-6c0 2.761-7.163 5-16 5z\"></path>\n",
       "<path d=\"M16 26c-8.837 0-16-2.239-16-5v6c0 2.761 7.163 5 16 5s16-2.239 16-5v-6c0 2.761-7.163 5-16 5z\"></path>\n",
       "</symbol>\n",
       "<symbol id=\"icon-file-text2\" viewBox=\"0 0 32 32\">\n",
       "<path d=\"M28.681 7.159c-0.694-0.947-1.662-2.053-2.724-3.116s-2.169-2.030-3.116-2.724c-1.612-1.182-2.393-1.319-2.841-1.319h-15.5c-1.378 0-2.5 1.121-2.5 2.5v27c0 1.378 1.122 2.5 2.5 2.5h23c1.378 0 2.5-1.122 2.5-2.5v-19.5c0-0.448-0.137-1.23-1.319-2.841zM24.543 5.457c0.959 0.959 1.712 1.825 2.268 2.543h-4.811v-4.811c0.718 0.556 1.584 1.309 2.543 2.268zM28 29.5c0 0.271-0.229 0.5-0.5 0.5h-23c-0.271 0-0.5-0.229-0.5-0.5v-27c0-0.271 0.229-0.5 0.5-0.5 0 0 15.499-0 15.5 0v7c0 0.552 0.448 1 1 1h7v19.5z\"></path>\n",
       "<path d=\"M23 26h-14c-0.552 0-1-0.448-1-1s0.448-1 1-1h14c0.552 0 1 0.448 1 1s-0.448 1-1 1z\"></path>\n",
       "<path d=\"M23 22h-14c-0.552 0-1-0.448-1-1s0.448-1 1-1h14c0.552 0 1 0.448 1 1s-0.448 1-1 1z\"></path>\n",
       "<path d=\"M23 18h-14c-0.552 0-1-0.448-1-1s0.448-1 1-1h14c0.552 0 1 0.448 1 1s-0.448 1-1 1z\"></path>\n",
       "</symbol>\n",
       "</defs>\n",
       "</svg>\n",
       "<style>/* CSS stylesheet for displaying xarray objects in jupyterlab.\n",
       " *\n",
       " */\n",
       "\n",
       ":root {\n",
       "  --xr-font-color0: var(--jp-content-font-color0, rgba(0, 0, 0, 1));\n",
       "  --xr-font-color2: var(--jp-content-font-color2, rgba(0, 0, 0, 0.54));\n",
       "  --xr-font-color3: var(--jp-content-font-color3, rgba(0, 0, 0, 0.38));\n",
       "  --xr-border-color: var(--jp-border-color2, #e0e0e0);\n",
       "  --xr-disabled-color: var(--jp-layout-color3, #bdbdbd);\n",
       "  --xr-background-color: var(--jp-layout-color0, white);\n",
       "  --xr-background-color-row-even: var(--jp-layout-color1, white);\n",
       "  --xr-background-color-row-odd: var(--jp-layout-color2, #eeeeee);\n",
       "}\n",
       "\n",
       "html[theme=dark],\n",
       "body[data-theme=dark],\n",
       "body.vscode-dark {\n",
       "  --xr-font-color0: rgba(255, 255, 255, 1);\n",
       "  --xr-font-color2: rgba(255, 255, 255, 0.54);\n",
       "  --xr-font-color3: rgba(255, 255, 255, 0.38);\n",
       "  --xr-border-color: #1F1F1F;\n",
       "  --xr-disabled-color: #515151;\n",
       "  --xr-background-color: #111111;\n",
       "  --xr-background-color-row-even: #111111;\n",
       "  --xr-background-color-row-odd: #313131;\n",
       "}\n",
       "\n",
       ".xr-wrap {\n",
       "  display: block !important;\n",
       "  min-width: 300px;\n",
       "  max-width: 700px;\n",
       "}\n",
       "\n",
       ".xr-text-repr-fallback {\n",
       "  /* fallback to plain text repr when CSS is not injected (untrusted notebook) */\n",
       "  display: none;\n",
       "}\n",
       "\n",
       ".xr-header {\n",
       "  padding-top: 6px;\n",
       "  padding-bottom: 6px;\n",
       "  margin-bottom: 4px;\n",
       "  border-bottom: solid 1px var(--xr-border-color);\n",
       "}\n",
       "\n",
       ".xr-header > div,\n",
       ".xr-header > ul {\n",
       "  display: inline;\n",
       "  margin-top: 0;\n",
       "  margin-bottom: 0;\n",
       "}\n",
       "\n",
       ".xr-obj-type,\n",
       ".xr-array-name {\n",
       "  margin-left: 2px;\n",
       "  margin-right: 10px;\n",
       "}\n",
       "\n",
       ".xr-obj-type {\n",
       "  color: var(--xr-font-color2);\n",
       "}\n",
       "\n",
       ".xr-sections {\n",
       "  padding-left: 0 !important;\n",
       "  display: grid;\n",
       "  grid-template-columns: 150px auto auto 1fr 20px 20px;\n",
       "}\n",
       "\n",
       ".xr-section-item {\n",
       "  display: contents;\n",
       "}\n",
       "\n",
       ".xr-section-item input {\n",
       "  display: none;\n",
       "}\n",
       "\n",
       ".xr-section-item input + label {\n",
       "  color: var(--xr-disabled-color);\n",
       "}\n",
       "\n",
       ".xr-section-item input:enabled + label {\n",
       "  cursor: pointer;\n",
       "  color: var(--xr-font-color2);\n",
       "}\n",
       "\n",
       ".xr-section-item input:enabled + label:hover {\n",
       "  color: var(--xr-font-color0);\n",
       "}\n",
       "\n",
       ".xr-section-summary {\n",
       "  grid-column: 1;\n",
       "  color: var(--xr-font-color2);\n",
       "  font-weight: 500;\n",
       "}\n",
       "\n",
       ".xr-section-summary > span {\n",
       "  display: inline-block;\n",
       "  padding-left: 0.5em;\n",
       "}\n",
       "\n",
       ".xr-section-summary-in:disabled + label {\n",
       "  color: var(--xr-font-color2);\n",
       "}\n",
       "\n",
       ".xr-section-summary-in + label:before {\n",
       "  display: inline-block;\n",
       "  content: '►';\n",
       "  font-size: 11px;\n",
       "  width: 15px;\n",
       "  text-align: center;\n",
       "}\n",
       "\n",
       ".xr-section-summary-in:disabled + label:before {\n",
       "  color: var(--xr-disabled-color);\n",
       "}\n",
       "\n",
       ".xr-section-summary-in:checked + label:before {\n",
       "  content: '▼';\n",
       "}\n",
       "\n",
       ".xr-section-summary-in:checked + label > span {\n",
       "  display: none;\n",
       "}\n",
       "\n",
       ".xr-section-summary,\n",
       ".xr-section-inline-details {\n",
       "  padding-top: 4px;\n",
       "  padding-bottom: 4px;\n",
       "}\n",
       "\n",
       ".xr-section-inline-details {\n",
       "  grid-column: 2 / -1;\n",
       "}\n",
       "\n",
       ".xr-section-details {\n",
       "  display: none;\n",
       "  grid-column: 1 / -1;\n",
       "  margin-bottom: 5px;\n",
       "}\n",
       "\n",
       ".xr-section-summary-in:checked ~ .xr-section-details {\n",
       "  display: contents;\n",
       "}\n",
       "\n",
       ".xr-array-wrap {\n",
       "  grid-column: 1 / -1;\n",
       "  display: grid;\n",
       "  grid-template-columns: 20px auto;\n",
       "}\n",
       "\n",
       ".xr-array-wrap > label {\n",
       "  grid-column: 1;\n",
       "  vertical-align: top;\n",
       "}\n",
       "\n",
       ".xr-preview {\n",
       "  color: var(--xr-font-color3);\n",
       "}\n",
       "\n",
       ".xr-array-preview,\n",
       ".xr-array-data {\n",
       "  padding: 0 5px !important;\n",
       "  grid-column: 2;\n",
       "}\n",
       "\n",
       ".xr-array-data,\n",
       ".xr-array-in:checked ~ .xr-array-preview {\n",
       "  display: none;\n",
       "}\n",
       "\n",
       ".xr-array-in:checked ~ .xr-array-data,\n",
       ".xr-array-preview {\n",
       "  display: inline-block;\n",
       "}\n",
       "\n",
       ".xr-dim-list {\n",
       "  display: inline-block !important;\n",
       "  list-style: none;\n",
       "  padding: 0 !important;\n",
       "  margin: 0;\n",
       "}\n",
       "\n",
       ".xr-dim-list li {\n",
       "  display: inline-block;\n",
       "  padding: 0;\n",
       "  margin: 0;\n",
       "}\n",
       "\n",
       ".xr-dim-list:before {\n",
       "  content: '(';\n",
       "}\n",
       "\n",
       ".xr-dim-list:after {\n",
       "  content: ')';\n",
       "}\n",
       "\n",
       ".xr-dim-list li:not(:last-child):after {\n",
       "  content: ',';\n",
       "  padding-right: 5px;\n",
       "}\n",
       "\n",
       ".xr-has-index {\n",
       "  font-weight: bold;\n",
       "}\n",
       "\n",
       ".xr-var-list,\n",
       ".xr-var-item {\n",
       "  display: contents;\n",
       "}\n",
       "\n",
       ".xr-var-item > div,\n",
       ".xr-var-item label,\n",
       ".xr-var-item > .xr-var-name span {\n",
       "  background-color: var(--xr-background-color-row-even);\n",
       "  margin-bottom: 0;\n",
       "}\n",
       "\n",
       ".xr-var-item > .xr-var-name:hover span {\n",
       "  padding-right: 5px;\n",
       "}\n",
       "\n",
       ".xr-var-list > li:nth-child(odd) > div,\n",
       ".xr-var-list > li:nth-child(odd) > label,\n",
       ".xr-var-list > li:nth-child(odd) > .xr-var-name span {\n",
       "  background-color: var(--xr-background-color-row-odd);\n",
       "}\n",
       "\n",
       ".xr-var-name {\n",
       "  grid-column: 1;\n",
       "}\n",
       "\n",
       ".xr-var-dims {\n",
       "  grid-column: 2;\n",
       "}\n",
       "\n",
       ".xr-var-dtype {\n",
       "  grid-column: 3;\n",
       "  text-align: right;\n",
       "  color: var(--xr-font-color2);\n",
       "}\n",
       "\n",
       ".xr-var-preview {\n",
       "  grid-column: 4;\n",
       "}\n",
       "\n",
       ".xr-index-preview {\n",
       "  grid-column: 2 / 5;\n",
       "  color: var(--xr-font-color2);\n",
       "}\n",
       "\n",
       ".xr-var-name,\n",
       ".xr-var-dims,\n",
       ".xr-var-dtype,\n",
       ".xr-preview,\n",
       ".xr-attrs dt {\n",
       "  white-space: nowrap;\n",
       "  overflow: hidden;\n",
       "  text-overflow: ellipsis;\n",
       "  padding-right: 10px;\n",
       "}\n",
       "\n",
       ".xr-var-name:hover,\n",
       ".xr-var-dims:hover,\n",
       ".xr-var-dtype:hover,\n",
       ".xr-attrs dt:hover {\n",
       "  overflow: visible;\n",
       "  width: auto;\n",
       "  z-index: 1;\n",
       "}\n",
       "\n",
       ".xr-var-attrs,\n",
       ".xr-var-data,\n",
       ".xr-index-data {\n",
       "  display: none;\n",
       "  background-color: var(--xr-background-color) !important;\n",
       "  padding-bottom: 5px !important;\n",
       "}\n",
       "\n",
       ".xr-var-attrs-in:checked ~ .xr-var-attrs,\n",
       ".xr-var-data-in:checked ~ .xr-var-data,\n",
       ".xr-index-data-in:checked ~ .xr-index-data {\n",
       "  display: block;\n",
       "}\n",
       "\n",
       ".xr-var-data > table {\n",
       "  float: right;\n",
       "}\n",
       "\n",
       ".xr-var-name span,\n",
       ".xr-var-data,\n",
       ".xr-index-name div,\n",
       ".xr-index-data,\n",
       ".xr-attrs {\n",
       "  padding-left: 25px !important;\n",
       "}\n",
       "\n",
       ".xr-attrs,\n",
       ".xr-var-attrs,\n",
       ".xr-var-data,\n",
       ".xr-index-data {\n",
       "  grid-column: 1 / -1;\n",
       "}\n",
       "\n",
       "dl.xr-attrs {\n",
       "  padding: 0;\n",
       "  margin: 0;\n",
       "  display: grid;\n",
       "  grid-template-columns: 125px auto;\n",
       "}\n",
       "\n",
       ".xr-attrs dt,\n",
       ".xr-attrs dd {\n",
       "  padding: 0;\n",
       "  margin: 0;\n",
       "  float: left;\n",
       "  padding-right: 10px;\n",
       "  width: auto;\n",
       "}\n",
       "\n",
       ".xr-attrs dt {\n",
       "  font-weight: normal;\n",
       "  grid-column: 1;\n",
       "}\n",
       "\n",
       ".xr-attrs dt:hover span {\n",
       "  display: inline-block;\n",
       "  background: var(--xr-background-color);\n",
       "  padding-right: 10px;\n",
       "}\n",
       "\n",
       ".xr-attrs dd {\n",
       "  grid-column: 2;\n",
       "  white-space: pre-wrap;\n",
       "  word-break: break-all;\n",
       "}\n",
       "\n",
       ".xr-icon-database,\n",
       ".xr-icon-file-text2,\n",
       ".xr-no-icon {\n",
       "  display: inline-block;\n",
       "  vertical-align: middle;\n",
       "  width: 1em;\n",
       "  height: 1.5em !important;\n",
       "  stroke-width: 0;\n",
       "  stroke: currentColor;\n",
       "  fill: currentColor;\n",
       "}\n",
       "</style><pre class='xr-text-repr-fallback'>&lt;xarray.Dataset&gt;\n",
       "Dimensions:  (x: 1, y: 512)\n",
       "Coordinates:\n",
       "  * x        (x) float64 1.0\n",
       "  * y        (y) float64 1e+03 3e+03 5e+03 ... 1.019e+06 1.021e+06 1.023e+06\n",
       "Data variables:\n",
       "    h        (x, y) float64 ...</pre><div class='xr-wrap' style='display:none'><div class='xr-header'><div class='xr-obj-type'>xarray.Dataset</div></div><ul class='xr-sections'><li class='xr-section-item'><input id='section-ffb47d26-2b6f-4a12-b8f9-38e467f3e3ca' class='xr-section-summary-in' type='checkbox' disabled ><label for='section-ffb47d26-2b6f-4a12-b8f9-38e467f3e3ca' class='xr-section-summary'  title='Expand/collapse section'>Dimensions:</label><div class='xr-section-inline-details'><ul class='xr-dim-list'><li><span class='xr-has-index'>x</span>: 1</li><li><span class='xr-has-index'>y</span>: 512</li></ul></div><div class='xr-section-details'></div></li><li class='xr-section-item'><input id='section-4433e00b-0f33-41e2-9b22-7dd299dbda21' class='xr-section-summary-in' type='checkbox'  checked><label for='section-4433e00b-0f33-41e2-9b22-7dd299dbda21' class='xr-section-summary' >Coordinates: <span>(2)</span></label><div class='xr-section-inline-details'></div><div class='xr-section-details'><ul class='xr-var-list'><li class='xr-var-item'><div class='xr-var-name'><span class='xr-has-index'>x</span></div><div class='xr-var-dims'>(x)</div><div class='xr-var-dtype'>float64</div><div class='xr-var-preview xr-preview'>1.0</div><input id='attrs-9806f338-2937-4285-aa6e-ac697f1eb59a' class='xr-var-attrs-in' type='checkbox' disabled><label for='attrs-9806f338-2937-4285-aa6e-ac697f1eb59a' title='Show/Hide attributes'><svg class='icon xr-icon-file-text2'><use xlink:href='#icon-file-text2'></use></svg></label><input id='data-27bfc9e4-6ae4-4dc3-88f2-39cf3690a612' class='xr-var-data-in' type='checkbox'><label for='data-27bfc9e4-6ae4-4dc3-88f2-39cf3690a612' title='Show/Hide data repr'><svg class='icon xr-icon-database'><use xlink:href='#icon-database'></use></svg></label><div class='xr-var-attrs'><dl class='xr-attrs'></dl></div><div class='xr-var-data'><pre>array([1.])</pre></div></li><li class='xr-var-item'><div class='xr-var-name'><span class='xr-has-index'>y</span></div><div class='xr-var-dims'>(y)</div><div class='xr-var-dtype'>float64</div><div class='xr-var-preview xr-preview'>1e+03 3e+03 ... 1.021e+06 1.023e+06</div><input id='attrs-9a970f4e-b5e5-42c3-bbf5-f24cd2e96959' class='xr-var-attrs-in' type='checkbox' disabled><label for='attrs-9a970f4e-b5e5-42c3-bbf5-f24cd2e96959' title='Show/Hide attributes'><svg class='icon xr-icon-file-text2'><use xlink:href='#icon-file-text2'></use></svg></label><input id='data-974ddde1-fda1-409b-b28a-5ddfaa354ac1' class='xr-var-data-in' type='checkbox'><label for='data-974ddde1-fda1-409b-b28a-5ddfaa354ac1' title='Show/Hide data repr'><svg class='icon xr-icon-database'><use xlink:href='#icon-database'></use></svg></label><div class='xr-var-attrs'><dl class='xr-attrs'></dl></div><div class='xr-var-data'><pre>array([1.000e+03, 3.000e+03, 5.000e+03, ..., 1.019e+06, 1.021e+06, 1.023e+06])</pre></div></li></ul></div></li><li class='xr-section-item'><input id='section-2cdff44a-ea98-4021-907c-4d3edc26dda8' class='xr-section-summary-in' type='checkbox'  checked><label for='section-2cdff44a-ea98-4021-907c-4d3edc26dda8' class='xr-section-summary' >Data variables: <span>(1)</span></label><div class='xr-section-inline-details'></div><div class='xr-section-details'><ul class='xr-var-list'><li class='xr-var-item'><div class='xr-var-name'><span>h</span></div><div class='xr-var-dims'>(x, y)</div><div class='xr-var-dtype'>float64</div><div class='xr-var-preview xr-preview'>...</div><input id='attrs-df073f15-7dd4-4d3c-aa81-577e3b0e216a' class='xr-var-attrs-in' type='checkbox' disabled><label for='attrs-df073f15-7dd4-4d3c-aa81-577e3b0e216a' title='Show/Hide attributes'><svg class='icon xr-icon-file-text2'><use xlink:href='#icon-file-text2'></use></svg></label><input id='data-84ec9e86-ea1b-413f-829c-b2b17ca741f3' class='xr-var-data-in' type='checkbox'><label for='data-84ec9e86-ea1b-413f-829c-b2b17ca741f3' title='Show/Hide data repr'><svg class='icon xr-icon-database'><use xlink:href='#icon-database'></use></svg></label><div class='xr-var-attrs'><dl class='xr-attrs'></dl></div><div class='xr-var-data'><pre>[512 values with dtype=float64]</pre></div></li></ul></div></li><li class='xr-section-item'><input id='section-5417badc-c0c9-4318-bf1f-9b8871aa4b5f' class='xr-section-summary-in' type='checkbox'  ><label for='section-5417badc-c0c9-4318-bf1f-9b8871aa4b5f' class='xr-section-summary' >Indexes: <span>(2)</span></label><div class='xr-section-inline-details'></div><div class='xr-section-details'><ul class='xr-var-list'><li class='xr-var-item'><div class='xr-index-name'><div>x</div></div><div class='xr-index-preview'>PandasIndex</div><div></div><input id='index-941162f5-ed70-4baf-bf2b-5aa4fc9f997a' class='xr-index-data-in' type='checkbox'/><label for='index-941162f5-ed70-4baf-bf2b-5aa4fc9f997a' title='Show/Hide index repr'><svg class='icon xr-icon-database'><use xlink:href='#icon-database'></use></svg></label><div class='xr-index-data'><pre>PandasIndex(Index([1.0], dtype=&#x27;float64&#x27;, name=&#x27;x&#x27;))</pre></div></li><li class='xr-var-item'><div class='xr-index-name'><div>y</div></div><div class='xr-index-preview'>PandasIndex</div><div></div><input id='index-a675f644-1bd8-4efb-a2ab-da0ce06a5e93' class='xr-index-data-in' type='checkbox'/><label for='index-a675f644-1bd8-4efb-a2ab-da0ce06a5e93' title='Show/Hide index repr'><svg class='icon xr-icon-database'><use xlink:href='#icon-database'></use></svg></label><div class='xr-index-data'><pre>PandasIndex(Index([   1000.0,    3000.0,    5000.0,    7000.0,    9000.0,   11000.0,\n",
       "         13000.0,   15000.0,   17000.0,   19000.0,\n",
       "       ...\n",
       "       1005000.0, 1007000.0, 1009000.0, 1011000.0, 1013000.0, 1015000.0,\n",
       "       1017000.0, 1019000.0, 1021000.0, 1023000.0],\n",
       "      dtype=&#x27;float64&#x27;, name=&#x27;y&#x27;, length=512))</pre></div></li></ul></div></li><li class='xr-section-item'><input id='section-4d47a31f-0f65-4b36-bb83-7a63ec5afc5c' class='xr-section-summary-in' type='checkbox' disabled ><label for='section-4d47a31f-0f65-4b36-bb83-7a63ec5afc5c' class='xr-section-summary'  title='Expand/collapse section'>Attributes: <span>(0)</span></label><div class='xr-section-inline-details'></div><div class='xr-section-details'><dl class='xr-attrs'></dl></div></li></ul></div></div>"
      ],
      "text/plain": [
       "<xarray.Dataset>\n",
       "Dimensions:  (x: 1, y: 512)\n",
       "Coordinates:\n",
       "  * x        (x) float64 1.0\n",
       "  * y        (y) float64 1e+03 3e+03 5e+03 ... 1.019e+06 1.021e+06 1.023e+06\n",
       "Data variables:\n",
       "    h        (x, y) float64 ..."
      ]
     },
     "execution_count": 30,
     "metadata": {},
     "output_type": "execute_result"
    }
   ],
   "source": [
    "datapath = \"data/\"\n",
    "filename = \"2D_channel_nostrat.nc\"\n",
    "\n",
    "ds = xr.open_dataset(datapath+filename)\n",
    "ds"
   ]
  },
  {
   "cell_type": "code",
   "execution_count": 31,
   "metadata": {},
   "outputs": [],
   "source": [
    "x = ds.x\n",
    "y = ds.y\n",
    "\n",
    "X, Y = np.meshgrid(x, y)\n",
    "Z = ds.h"
   ]
  },
  {
   "cell_type": "code",
   "execution_count": 33,
   "metadata": {},
   "outputs": [
    {
     "data": {
      "application/vnd.plotly.v1+json": {
       "config": {
        "plotlyServerURL": "https://plot.ly"
       },
       "data": [
        {
         "contours": {
          "z": {
           "highlightcolor": "limegreen",
           "project": {
            "z": true
           },
           "show": true,
           "usecolormap": true
          }
         },
         "type": "surface",
         "x": [
          [
           1
          ],
          [
           1
          ],
          [
           1
          ],
          [
           1
          ],
          [
           1
          ],
          [
           1
          ],
          [
           1
          ],
          [
           1
          ],
          [
           1
          ],
          [
           1
          ],
          [
           1
          ],
          [
           1
          ],
          [
           1
          ],
          [
           1
          ],
          [
           1
          ],
          [
           1
          ],
          [
           1
          ],
          [
           1
          ],
          [
           1
          ],
          [
           1
          ],
          [
           1
          ],
          [
           1
          ],
          [
           1
          ],
          [
           1
          ],
          [
           1
          ],
          [
           1
          ],
          [
           1
          ],
          [
           1
          ],
          [
           1
          ],
          [
           1
          ],
          [
           1
          ],
          [
           1
          ],
          [
           1
          ],
          [
           1
          ],
          [
           1
          ],
          [
           1
          ],
          [
           1
          ],
          [
           1
          ],
          [
           1
          ],
          [
           1
          ],
          [
           1
          ],
          [
           1
          ],
          [
           1
          ],
          [
           1
          ],
          [
           1
          ],
          [
           1
          ],
          [
           1
          ],
          [
           1
          ],
          [
           1
          ],
          [
           1
          ],
          [
           1
          ],
          [
           1
          ],
          [
           1
          ],
          [
           1
          ],
          [
           1
          ],
          [
           1
          ],
          [
           1
          ],
          [
           1
          ],
          [
           1
          ],
          [
           1
          ],
          [
           1
          ],
          [
           1
          ],
          [
           1
          ],
          [
           1
          ],
          [
           1
          ],
          [
           1
          ],
          [
           1
          ],
          [
           1
          ],
          [
           1
          ],
          [
           1
          ],
          [
           1
          ],
          [
           1
          ],
          [
           1
          ],
          [
           1
          ],
          [
           1
          ],
          [
           1
          ],
          [
           1
          ],
          [
           1
          ],
          [
           1
          ],
          [
           1
          ],
          [
           1
          ],
          [
           1
          ],
          [
           1
          ],
          [
           1
          ],
          [
           1
          ],
          [
           1
          ],
          [
           1
          ],
          [
           1
          ],
          [
           1
          ],
          [
           1
          ],
          [
           1
          ],
          [
           1
          ],
          [
           1
          ],
          [
           1
          ],
          [
           1
          ],
          [
           1
          ],
          [
           1
          ],
          [
           1
          ],
          [
           1
          ],
          [
           1
          ],
          [
           1
          ],
          [
           1
          ],
          [
           1
          ],
          [
           1
          ],
          [
           1
          ],
          [
           1
          ],
          [
           1
          ],
          [
           1
          ],
          [
           1
          ],
          [
           1
          ],
          [
           1
          ],
          [
           1
          ],
          [
           1
          ],
          [
           1
          ],
          [
           1
          ],
          [
           1
          ],
          [
           1
          ],
          [
           1
          ],
          [
           1
          ],
          [
           1
          ],
          [
           1
          ],
          [
           1
          ],
          [
           1
          ],
          [
           1
          ],
          [
           1
          ],
          [
           1
          ],
          [
           1
          ],
          [
           1
          ],
          [
           1
          ],
          [
           1
          ],
          [
           1
          ],
          [
           1
          ],
          [
           1
          ],
          [
           1
          ],
          [
           1
          ],
          [
           1
          ],
          [
           1
          ],
          [
           1
          ],
          [
           1
          ],
          [
           1
          ],
          [
           1
          ],
          [
           1
          ],
          [
           1
          ],
          [
           1
          ],
          [
           1
          ],
          [
           1
          ],
          [
           1
          ],
          [
           1
          ],
          [
           1
          ],
          [
           1
          ],
          [
           1
          ],
          [
           1
          ],
          [
           1
          ],
          [
           1
          ],
          [
           1
          ],
          [
           1
          ],
          [
           1
          ],
          [
           1
          ],
          [
           1
          ],
          [
           1
          ],
          [
           1
          ],
          [
           1
          ],
          [
           1
          ],
          [
           1
          ],
          [
           1
          ],
          [
           1
          ],
          [
           1
          ],
          [
           1
          ],
          [
           1
          ],
          [
           1
          ],
          [
           1
          ],
          [
           1
          ],
          [
           1
          ],
          [
           1
          ],
          [
           1
          ],
          [
           1
          ],
          [
           1
          ],
          [
           1
          ],
          [
           1
          ],
          [
           1
          ],
          [
           1
          ],
          [
           1
          ],
          [
           1
          ],
          [
           1
          ],
          [
           1
          ],
          [
           1
          ],
          [
           1
          ],
          [
           1
          ],
          [
           1
          ],
          [
           1
          ],
          [
           1
          ],
          [
           1
          ],
          [
           1
          ],
          [
           1
          ],
          [
           1
          ],
          [
           1
          ],
          [
           1
          ],
          [
           1
          ],
          [
           1
          ],
          [
           1
          ],
          [
           1
          ],
          [
           1
          ],
          [
           1
          ],
          [
           1
          ],
          [
           1
          ],
          [
           1
          ],
          [
           1
          ],
          [
           1
          ],
          [
           1
          ],
          [
           1
          ],
          [
           1
          ],
          [
           1
          ],
          [
           1
          ],
          [
           1
          ],
          [
           1
          ],
          [
           1
          ],
          [
           1
          ],
          [
           1
          ],
          [
           1
          ],
          [
           1
          ],
          [
           1
          ],
          [
           1
          ],
          [
           1
          ],
          [
           1
          ],
          [
           1
          ],
          [
           1
          ],
          [
           1
          ],
          [
           1
          ],
          [
           1
          ],
          [
           1
          ],
          [
           1
          ],
          [
           1
          ],
          [
           1
          ],
          [
           1
          ],
          [
           1
          ],
          [
           1
          ],
          [
           1
          ],
          [
           1
          ],
          [
           1
          ],
          [
           1
          ],
          [
           1
          ],
          [
           1
          ],
          [
           1
          ],
          [
           1
          ],
          [
           1
          ],
          [
           1
          ],
          [
           1
          ],
          [
           1
          ],
          [
           1
          ],
          [
           1
          ],
          [
           1
          ],
          [
           1
          ],
          [
           1
          ],
          [
           1
          ],
          [
           1
          ],
          [
           1
          ],
          [
           1
          ],
          [
           1
          ],
          [
           1
          ],
          [
           1
          ],
          [
           1
          ],
          [
           1
          ],
          [
           1
          ],
          [
           1
          ],
          [
           1
          ],
          [
           1
          ],
          [
           1
          ],
          [
           1
          ],
          [
           1
          ],
          [
           1
          ],
          [
           1
          ],
          [
           1
          ],
          [
           1
          ],
          [
           1
          ],
          [
           1
          ],
          [
           1
          ],
          [
           1
          ],
          [
           1
          ],
          [
           1
          ],
          [
           1
          ],
          [
           1
          ],
          [
           1
          ],
          [
           1
          ],
          [
           1
          ],
          [
           1
          ],
          [
           1
          ],
          [
           1
          ],
          [
           1
          ],
          [
           1
          ],
          [
           1
          ],
          [
           1
          ],
          [
           1
          ],
          [
           1
          ],
          [
           1
          ],
          [
           1
          ],
          [
           1
          ],
          [
           1
          ],
          [
           1
          ],
          [
           1
          ],
          [
           1
          ],
          [
           1
          ],
          [
           1
          ],
          [
           1
          ],
          [
           1
          ],
          [
           1
          ],
          [
           1
          ],
          [
           1
          ],
          [
           1
          ],
          [
           1
          ],
          [
           1
          ],
          [
           1
          ],
          [
           1
          ],
          [
           1
          ],
          [
           1
          ],
          [
           1
          ],
          [
           1
          ],
          [
           1
          ],
          [
           1
          ],
          [
           1
          ],
          [
           1
          ],
          [
           1
          ],
          [
           1
          ],
          [
           1
          ],
          [
           1
          ],
          [
           1
          ],
          [
           1
          ],
          [
           1
          ],
          [
           1
          ],
          [
           1
          ],
          [
           1
          ],
          [
           1
          ],
          [
           1
          ],
          [
           1
          ],
          [
           1
          ],
          [
           1
          ],
          [
           1
          ],
          [
           1
          ],
          [
           1
          ],
          [
           1
          ],
          [
           1
          ],
          [
           1
          ],
          [
           1
          ],
          [
           1
          ],
          [
           1
          ],
          [
           1
          ],
          [
           1
          ],
          [
           1
          ],
          [
           1
          ],
          [
           1
          ],
          [
           1
          ],
          [
           1
          ],
          [
           1
          ],
          [
           1
          ],
          [
           1
          ],
          [
           1
          ],
          [
           1
          ],
          [
           1
          ],
          [
           1
          ],
          [
           1
          ],
          [
           1
          ],
          [
           1
          ],
          [
           1
          ],
          [
           1
          ],
          [
           1
          ],
          [
           1
          ],
          [
           1
          ],
          [
           1
          ],
          [
           1
          ],
          [
           1
          ],
          [
           1
          ],
          [
           1
          ],
          [
           1
          ],
          [
           1
          ],
          [
           1
          ],
          [
           1
          ],
          [
           1
          ],
          [
           1
          ],
          [
           1
          ],
          [
           1
          ],
          [
           1
          ],
          [
           1
          ],
          [
           1
          ],
          [
           1
          ],
          [
           1
          ],
          [
           1
          ],
          [
           1
          ],
          [
           1
          ],
          [
           1
          ],
          [
           1
          ],
          [
           1
          ],
          [
           1
          ],
          [
           1
          ],
          [
           1
          ],
          [
           1
          ],
          [
           1
          ],
          [
           1
          ],
          [
           1
          ],
          [
           1
          ],
          [
           1
          ],
          [
           1
          ],
          [
           1
          ],
          [
           1
          ],
          [
           1
          ],
          [
           1
          ],
          [
           1
          ],
          [
           1
          ],
          [
           1
          ],
          [
           1
          ],
          [
           1
          ],
          [
           1
          ],
          [
           1
          ],
          [
           1
          ],
          [
           1
          ],
          [
           1
          ],
          [
           1
          ],
          [
           1
          ],
          [
           1
          ],
          [
           1
          ],
          [
           1
          ],
          [
           1
          ],
          [
           1
          ],
          [
           1
          ],
          [
           1
          ],
          [
           1
          ],
          [
           1
          ],
          [
           1
          ],
          [
           1
          ],
          [
           1
          ],
          [
           1
          ],
          [
           1
          ],
          [
           1
          ],
          [
           1
          ],
          [
           1
          ],
          [
           1
          ],
          [
           1
          ],
          [
           1
          ],
          [
           1
          ],
          [
           1
          ],
          [
           1
          ],
          [
           1
          ],
          [
           1
          ],
          [
           1
          ],
          [
           1
          ],
          [
           1
          ],
          [
           1
          ],
          [
           1
          ],
          [
           1
          ],
          [
           1
          ],
          [
           1
          ],
          [
           1
          ],
          [
           1
          ],
          [
           1
          ],
          [
           1
          ],
          [
           1
          ],
          [
           1
          ],
          [
           1
          ],
          [
           1
          ],
          [
           1
          ],
          [
           1
          ],
          [
           1
          ],
          [
           1
          ],
          [
           1
          ],
          [
           1
          ],
          [
           1
          ],
          [
           1
          ],
          [
           1
          ],
          [
           1
          ],
          [
           1
          ],
          [
           1
          ],
          [
           1
          ],
          [
           1
          ],
          [
           1
          ],
          [
           1
          ],
          [
           1
          ],
          [
           1
          ],
          [
           1
          ],
          [
           1
          ],
          [
           1
          ],
          [
           1
          ],
          [
           1
          ],
          [
           1
          ],
          [
           1
          ],
          [
           1
          ],
          [
           1
          ],
          [
           1
          ],
          [
           1
          ],
          [
           1
          ],
          [
           1
          ],
          [
           1
          ],
          [
           1
          ],
          [
           1
          ],
          [
           1
          ],
          [
           1
          ],
          [
           1
          ],
          [
           1
          ],
          [
           1
          ],
          [
           1
          ],
          [
           1
          ],
          [
           1
          ],
          [
           1
          ],
          [
           1
          ],
          [
           1
          ],
          [
           1
          ],
          [
           1
          ],
          [
           1
          ],
          [
           1
          ],
          [
           1
          ],
          [
           1
          ],
          [
           1
          ],
          [
           1
          ],
          [
           1
          ],
          [
           1
          ]
         ],
         "y": [
          [
           1000
          ],
          [
           3000
          ],
          [
           5000
          ],
          [
           7000
          ],
          [
           9000
          ],
          [
           11000
          ],
          [
           13000
          ],
          [
           15000
          ],
          [
           17000
          ],
          [
           19000
          ],
          [
           21000
          ],
          [
           23000
          ],
          [
           25000
          ],
          [
           27000
          ],
          [
           29000
          ],
          [
           31000
          ],
          [
           33000
          ],
          [
           35000
          ],
          [
           37000
          ],
          [
           39000
          ],
          [
           41000
          ],
          [
           43000
          ],
          [
           45000
          ],
          [
           47000
          ],
          [
           49000
          ],
          [
           51000
          ],
          [
           53000
          ],
          [
           55000
          ],
          [
           57000
          ],
          [
           59000
          ],
          [
           61000
          ],
          [
           63000
          ],
          [
           65000
          ],
          [
           67000
          ],
          [
           69000
          ],
          [
           71000
          ],
          [
           73000
          ],
          [
           75000
          ],
          [
           77000
          ],
          [
           79000
          ],
          [
           81000
          ],
          [
           83000
          ],
          [
           85000
          ],
          [
           87000
          ],
          [
           89000
          ],
          [
           91000
          ],
          [
           93000
          ],
          [
           95000
          ],
          [
           97000
          ],
          [
           99000
          ],
          [
           101000
          ],
          [
           103000
          ],
          [
           105000
          ],
          [
           107000
          ],
          [
           109000
          ],
          [
           111000
          ],
          [
           113000
          ],
          [
           115000
          ],
          [
           117000
          ],
          [
           119000
          ],
          [
           121000
          ],
          [
           123000
          ],
          [
           125000
          ],
          [
           127000
          ],
          [
           129000
          ],
          [
           131000
          ],
          [
           133000
          ],
          [
           135000
          ],
          [
           137000
          ],
          [
           139000
          ],
          [
           141000
          ],
          [
           143000
          ],
          [
           145000
          ],
          [
           147000
          ],
          [
           149000
          ],
          [
           151000
          ],
          [
           153000
          ],
          [
           155000
          ],
          [
           157000
          ],
          [
           159000
          ],
          [
           161000
          ],
          [
           163000
          ],
          [
           165000
          ],
          [
           167000
          ],
          [
           169000
          ],
          [
           171000
          ],
          [
           173000
          ],
          [
           175000
          ],
          [
           177000
          ],
          [
           179000
          ],
          [
           181000
          ],
          [
           183000
          ],
          [
           185000
          ],
          [
           187000
          ],
          [
           189000
          ],
          [
           191000
          ],
          [
           193000
          ],
          [
           195000
          ],
          [
           197000
          ],
          [
           199000
          ],
          [
           201000
          ],
          [
           203000
          ],
          [
           205000
          ],
          [
           207000
          ],
          [
           209000
          ],
          [
           211000
          ],
          [
           213000
          ],
          [
           215000
          ],
          [
           217000
          ],
          [
           219000
          ],
          [
           221000
          ],
          [
           223000
          ],
          [
           225000
          ],
          [
           227000
          ],
          [
           229000
          ],
          [
           231000
          ],
          [
           233000
          ],
          [
           235000
          ],
          [
           237000
          ],
          [
           239000
          ],
          [
           241000
          ],
          [
           243000
          ],
          [
           245000
          ],
          [
           247000
          ],
          [
           249000
          ],
          [
           251000
          ],
          [
           253000
          ],
          [
           255000
          ],
          [
           257000
          ],
          [
           259000
          ],
          [
           261000
          ],
          [
           263000
          ],
          [
           265000
          ],
          [
           267000
          ],
          [
           269000
          ],
          [
           271000
          ],
          [
           273000
          ],
          [
           275000
          ],
          [
           277000
          ],
          [
           279000
          ],
          [
           281000
          ],
          [
           283000
          ],
          [
           285000
          ],
          [
           287000
          ],
          [
           289000
          ],
          [
           291000
          ],
          [
           293000
          ],
          [
           295000
          ],
          [
           297000
          ],
          [
           299000
          ],
          [
           301000
          ],
          [
           303000
          ],
          [
           305000
          ],
          [
           307000
          ],
          [
           309000
          ],
          [
           311000
          ],
          [
           313000
          ],
          [
           315000
          ],
          [
           317000
          ],
          [
           319000
          ],
          [
           321000
          ],
          [
           323000
          ],
          [
           325000
          ],
          [
           327000
          ],
          [
           329000
          ],
          [
           331000
          ],
          [
           333000
          ],
          [
           335000
          ],
          [
           337000
          ],
          [
           339000
          ],
          [
           341000
          ],
          [
           343000
          ],
          [
           345000
          ],
          [
           347000
          ],
          [
           349000
          ],
          [
           351000
          ],
          [
           353000
          ],
          [
           355000
          ],
          [
           357000
          ],
          [
           359000
          ],
          [
           361000
          ],
          [
           363000
          ],
          [
           365000
          ],
          [
           367000
          ],
          [
           369000
          ],
          [
           371000
          ],
          [
           373000
          ],
          [
           375000
          ],
          [
           377000
          ],
          [
           379000
          ],
          [
           381000
          ],
          [
           383000
          ],
          [
           385000
          ],
          [
           387000
          ],
          [
           389000
          ],
          [
           391000
          ],
          [
           393000
          ],
          [
           395000
          ],
          [
           397000
          ],
          [
           399000
          ],
          [
           401000
          ],
          [
           403000
          ],
          [
           405000
          ],
          [
           407000
          ],
          [
           409000
          ],
          [
           411000
          ],
          [
           413000
          ],
          [
           415000
          ],
          [
           417000
          ],
          [
           419000
          ],
          [
           421000
          ],
          [
           423000
          ],
          [
           425000
          ],
          [
           427000
          ],
          [
           429000
          ],
          [
           431000
          ],
          [
           433000
          ],
          [
           435000
          ],
          [
           437000
          ],
          [
           439000
          ],
          [
           441000
          ],
          [
           443000
          ],
          [
           445000
          ],
          [
           447000
          ],
          [
           449000
          ],
          [
           451000
          ],
          [
           453000
          ],
          [
           455000
          ],
          [
           457000
          ],
          [
           459000
          ],
          [
           461000
          ],
          [
           463000
          ],
          [
           465000
          ],
          [
           467000
          ],
          [
           469000
          ],
          [
           471000
          ],
          [
           473000
          ],
          [
           475000
          ],
          [
           477000
          ],
          [
           479000
          ],
          [
           481000
          ],
          [
           483000
          ],
          [
           485000
          ],
          [
           487000
          ],
          [
           489000
          ],
          [
           491000
          ],
          [
           493000
          ],
          [
           495000
          ],
          [
           497000
          ],
          [
           499000
          ],
          [
           501000
          ],
          [
           503000
          ],
          [
           505000
          ],
          [
           507000
          ],
          [
           509000
          ],
          [
           511000
          ],
          [
           513000
          ],
          [
           515000
          ],
          [
           517000
          ],
          [
           519000
          ],
          [
           521000
          ],
          [
           523000
          ],
          [
           525000
          ],
          [
           527000
          ],
          [
           529000
          ],
          [
           531000
          ],
          [
           533000
          ],
          [
           535000
          ],
          [
           537000
          ],
          [
           539000
          ],
          [
           541000
          ],
          [
           543000
          ],
          [
           545000
          ],
          [
           547000
          ],
          [
           549000
          ],
          [
           551000
          ],
          [
           553000
          ],
          [
           555000
          ],
          [
           557000
          ],
          [
           559000
          ],
          [
           561000
          ],
          [
           563000
          ],
          [
           565000
          ],
          [
           567000
          ],
          [
           569000
          ],
          [
           571000
          ],
          [
           573000
          ],
          [
           575000
          ],
          [
           577000
          ],
          [
           579000
          ],
          [
           581000
          ],
          [
           583000
          ],
          [
           585000
          ],
          [
           587000
          ],
          [
           589000
          ],
          [
           591000
          ],
          [
           593000
          ],
          [
           595000
          ],
          [
           597000
          ],
          [
           599000
          ],
          [
           601000
          ],
          [
           603000
          ],
          [
           605000
          ],
          [
           607000
          ],
          [
           609000
          ],
          [
           611000
          ],
          [
           613000
          ],
          [
           615000
          ],
          [
           617000
          ],
          [
           619000
          ],
          [
           621000
          ],
          [
           623000
          ],
          [
           625000
          ],
          [
           627000
          ],
          [
           629000
          ],
          [
           631000
          ],
          [
           633000
          ],
          [
           635000
          ],
          [
           637000
          ],
          [
           639000
          ],
          [
           641000
          ],
          [
           643000
          ],
          [
           645000
          ],
          [
           647000
          ],
          [
           649000
          ],
          [
           651000
          ],
          [
           653000
          ],
          [
           655000
          ],
          [
           657000
          ],
          [
           659000
          ],
          [
           661000
          ],
          [
           663000
          ],
          [
           665000
          ],
          [
           667000
          ],
          [
           669000
          ],
          [
           671000
          ],
          [
           673000
          ],
          [
           675000
          ],
          [
           677000
          ],
          [
           679000
          ],
          [
           681000
          ],
          [
           683000
          ],
          [
           685000
          ],
          [
           687000
          ],
          [
           689000
          ],
          [
           691000
          ],
          [
           693000
          ],
          [
           695000
          ],
          [
           697000
          ],
          [
           699000
          ],
          [
           701000
          ],
          [
           703000
          ],
          [
           705000
          ],
          [
           707000
          ],
          [
           709000
          ],
          [
           711000
          ],
          [
           713000
          ],
          [
           715000
          ],
          [
           717000
          ],
          [
           719000
          ],
          [
           721000
          ],
          [
           723000
          ],
          [
           725000
          ],
          [
           727000
          ],
          [
           729000
          ],
          [
           731000
          ],
          [
           733000
          ],
          [
           735000
          ],
          [
           737000
          ],
          [
           739000
          ],
          [
           741000
          ],
          [
           743000
          ],
          [
           745000
          ],
          [
           747000
          ],
          [
           749000
          ],
          [
           751000
          ],
          [
           753000
          ],
          [
           755000
          ],
          [
           757000
          ],
          [
           759000
          ],
          [
           761000
          ],
          [
           763000
          ],
          [
           765000
          ],
          [
           767000
          ],
          [
           769000
          ],
          [
           771000
          ],
          [
           773000
          ],
          [
           775000
          ],
          [
           777000
          ],
          [
           779000
          ],
          [
           781000
          ],
          [
           783000
          ],
          [
           785000
          ],
          [
           787000
          ],
          [
           789000
          ],
          [
           791000
          ],
          [
           793000
          ],
          [
           795000
          ],
          [
           797000
          ],
          [
           799000
          ],
          [
           801000
          ],
          [
           803000
          ],
          [
           805000
          ],
          [
           807000
          ],
          [
           809000
          ],
          [
           811000
          ],
          [
           813000
          ],
          [
           815000
          ],
          [
           817000
          ],
          [
           819000
          ],
          [
           821000
          ],
          [
           823000
          ],
          [
           825000
          ],
          [
           827000
          ],
          [
           829000
          ],
          [
           831000
          ],
          [
           833000
          ],
          [
           835000
          ],
          [
           837000
          ],
          [
           839000
          ],
          [
           841000
          ],
          [
           843000
          ],
          [
           845000
          ],
          [
           847000
          ],
          [
           849000
          ],
          [
           851000
          ],
          [
           853000
          ],
          [
           855000
          ],
          [
           857000
          ],
          [
           859000
          ],
          [
           861000
          ],
          [
           863000
          ],
          [
           865000
          ],
          [
           867000
          ],
          [
           869000
          ],
          [
           871000
          ],
          [
           873000
          ],
          [
           875000
          ],
          [
           877000
          ],
          [
           879000
          ],
          [
           881000
          ],
          [
           883000
          ],
          [
           885000
          ],
          [
           887000
          ],
          [
           889000
          ],
          [
           891000
          ],
          [
           893000
          ],
          [
           895000
          ],
          [
           897000
          ],
          [
           899000
          ],
          [
           901000
          ],
          [
           903000
          ],
          [
           905000
          ],
          [
           907000
          ],
          [
           909000
          ],
          [
           911000
          ],
          [
           913000
          ],
          [
           915000
          ],
          [
           917000
          ],
          [
           919000
          ],
          [
           921000
          ],
          [
           923000
          ],
          [
           925000
          ],
          [
           927000
          ],
          [
           929000
          ],
          [
           931000
          ],
          [
           933000
          ],
          [
           935000
          ],
          [
           937000
          ],
          [
           939000
          ],
          [
           941000
          ],
          [
           943000
          ],
          [
           945000
          ],
          [
           947000
          ],
          [
           949000
          ],
          [
           951000
          ],
          [
           953000
          ],
          [
           955000
          ],
          [
           957000
          ],
          [
           959000
          ],
          [
           961000
          ],
          [
           963000
          ],
          [
           965000
          ],
          [
           967000
          ],
          [
           969000
          ],
          [
           971000
          ],
          [
           973000
          ],
          [
           975000
          ],
          [
           977000
          ],
          [
           979000
          ],
          [
           981000
          ],
          [
           983000
          ],
          [
           985000
          ],
          [
           987000
          ],
          [
           989000
          ],
          [
           991000
          ],
          [
           993000
          ],
          [
           995000
          ],
          [
           997000
          ],
          [
           999000
          ],
          [
           1001000
          ],
          [
           1003000
          ],
          [
           1005000
          ],
          [
           1007000
          ],
          [
           1009000
          ],
          [
           1011000
          ],
          [
           1013000
          ],
          [
           1015000
          ],
          [
           1017000
          ],
          [
           1019000
          ],
          [
           1021000
          ],
          [
           1023000
          ]
         ],
         "z": [
          [
           -250.00758413932866,
           -250.00896752799883,
           -250.01060325302305,
           -250.0125373411616,
           -250.0148242143553,
           -250.01752822090285,
           -250.0207254458744,
           -250.02450585166747,
           -250.0289758088935,
           -250.03426108874515,
           -250.04051040095197,
           -250.04789957675143,
           -250.05663651439747,
           -250.06696702611276,
           -250.0791817506578,
           -250.09362432553138,
           -250.1107010480631,
           -250.1308922962786,
           -250.15476602954624,
           -250.18299374699637,
           -250.21636935010406,
           -250.25583143648666,
           -250.30248964703594,
           -250.35765580049275,
           -250.42288068138808,
           -250.49999750231567,
           -250.59117324365522,
           -250.69896928764123,
           -250.82641301417996,
           -250.97708231887904,
           -251.15520535587922,
           -251.3657782065003,
           -251.61470363727267,
           -251.90895464599473,
           -252.25676711059143,
           -252.66786656108843,
           -253.15373489731175,
           -253.72792377925003,
           -254.40642242488187,
           -255.2080886570054,
           -256.15515323190465,
           -257.27380872965114,
           -258.5948955382634,
           -260.1546986408642,
           -261.99586989217624,
           -264.16849106387787,
           -266.73129288143826,
           -269.7530441925559,
           -273.3141227803819,
           -277.5082744613614,
           -282.4445590592124,
           -288.24946942627105,
           -295.0691913957718,
           -303.0719466003545,
           -312.4503244532163,
           -323.4234621601808,
           -336.2388705869943,
           -351.17362819156693,
           -368.5345759188651,
           -388.657047046662,
           -411.9015666520671,
           -438.6478721079097,
           -469.28556464073233,
           -504.2007387530205,
           -543.7580965196835,
           -588.278385791426,
           -638.0115441142241,
           -693.1066930997895,
           -753.5810652537702,
           -819.2909318200814,
           -889.908422381188,
           -964.9085045352508,
           -1043.570043562573,
           -1124.9936094395964,
           -1208.136579556659,
           -1291.863420443341,
           -1375.0063905604036,
           -1456.429956437427,
           -1535.0914954647492,
           -1610.0915776188122,
           -1680.7090681799186,
           -1746.4189347462295,
           -1806.8933069002107,
           -1861.988455885776,
           -1911.721614208574,
           -1956.2419034803165,
           -1995.7992612469795,
           -2030.7144353592676,
           -2061.3521278920903,
           -2088.0984333479328,
           -2111.3429529533378,
           -2131.465424081135,
           -2148.826371808433,
           -2163.7611294130056,
           -2176.576537839819,
           -2187.549675546784,
           -2196.9280533996453,
           -2204.9308086042283,
           -2211.7505305737286,
           -2217.555440940788,
           -2222.491725538639,
           -2226.6858772196183,
           -2230.246955807444,
           -2233.268707118562,
           -2235.831508936122,
           -2238.0041301078236,
           -2239.8453013591356,
           -2241.4051044617363,
           -2242.726191270349,
           -2243.8448467680955,
           -2244.7919113429944,
           -2245.593577575118,
           -2250,
           -2250,
           -2250,
           -2250,
           -2250,
           -2250,
           -2250,
           -2250,
           -2250,
           -2250,
           -2250,
           -2250,
           -2250,
           -2250,
           -2250,
           -2250,
           -2250,
           -2250,
           -2250,
           -2250,
           -2250,
           -2250,
           -2250,
           -2250,
           -2250,
           -2250,
           -2250,
           -2250,
           -2250,
           -2250,
           -2250,
           -2250,
           -2250,
           -2250,
           -2250,
           -2250,
           -2250,
           -2250,
           -2250,
           -2250,
           -2250,
           -2250,
           -2250,
           -2250,
           -2250,
           -2250,
           -2250,
           -2250,
           -2250,
           -2250,
           -2250,
           -2250,
           -2250,
           -2250,
           -2250,
           -2250,
           -2250,
           -2250,
           -2250,
           -2250,
           -2250,
           -2250,
           -2250,
           -2250,
           -2250,
           -2250,
           -2250,
           -2250,
           -2250,
           -2250,
           -2250,
           -2250,
           -2250,
           -2250,
           -2250,
           -2250,
           -2250,
           -2250,
           -2250,
           -2250,
           -2250,
           -2250,
           -2250,
           -2250,
           -2250,
           -2250,
           -2250,
           -2250,
           -2250,
           -2250,
           -2250,
           -2250,
           -2250,
           -2250,
           -2250,
           -2250,
           -2250,
           -2250,
           -2250,
           -2250,
           -2250,
           -2250,
           -2250,
           -2250,
           -2250,
           -2250,
           -2250,
           -2250,
           -2250,
           -2250,
           -2250,
           -2250,
           -2250,
           -2250,
           -2250,
           -2250,
           -2250,
           -2250,
           -2250,
           -2250,
           -2250,
           -2250,
           -2250,
           -2250,
           -2250,
           -2250,
           -2250,
           -2250,
           -2250,
           -2250,
           -2250,
           -2250,
           -2250,
           -2250,
           -2250,
           -2250,
           -2250,
           -2250,
           -2250,
           -2250,
           -2250,
           -2250,
           -2250,
           -2250,
           -2250,
           -2250,
           -2250,
           -2250,
           -2250,
           -2250,
           -2250,
           -2250,
           -2250,
           -2250,
           -2250,
           -2250,
           -2250,
           -2250,
           -2250,
           -2250,
           -2250,
           -2250,
           -2250,
           -2250,
           -2250,
           -2250,
           -2250,
           -2250,
           -2250,
           -2250,
           -2250,
           -2250,
           -2250,
           -2250,
           -2250,
           -2250,
           -2250,
           -2250,
           -2250,
           -2250,
           -2250,
           -2250,
           -2250,
           -2250,
           -2250,
           -2250,
           -2250,
           -2250,
           -2250,
           -2250,
           -2250,
           -2250,
           -2250,
           -2250,
           -2250,
           -2250,
           -2250,
           -2250,
           -2250,
           -2250,
           -2250,
           -2250,
           -2250,
           -2250,
           -2250,
           -2250,
           -2250,
           -2250,
           -2250,
           -2250,
           -2250,
           -2250,
           -2250,
           -2250,
           -2250,
           -2250,
           -2250,
           -2250,
           -2250,
           -2250,
           -2250,
           -2250,
           -2250,
           -2250,
           -2250,
           -2250,
           -2250,
           -2250,
           -2250,
           -2250,
           -2250,
           -2250,
           -2250,
           -2250,
           -2250,
           -2250,
           -2250,
           -2250,
           -2250,
           -2250,
           -2250,
           -2250,
           -2250,
           -2250,
           -2250,
           -2250,
           -2250,
           -2250,
           -2250,
           -2250,
           -2250,
           -2250,
           -2250,
           -2250,
           -2250,
           -2250,
           -2250,
           -2250,
           -2250,
           -2250,
           -2250,
           -2250,
           -2250,
           -2250,
           -2250,
           -2250,
           -2250,
           -2250,
           -2250,
           -2250,
           -2250,
           -2250,
           -2250,
           -2250,
           -2250,
           -2250,
           -2250,
           -2250,
           -2250,
           -2250,
           -2250,
           -2250,
           -2250,
           -2250,
           -2250,
           -2250,
           -2250,
           -2250,
           -2245.593577575118,
           -2244.7919113429944,
           -2243.8448467680955,
           -2242.726191270349,
           -2241.4051044617363,
           -2239.8453013591356,
           -2238.0041301078236,
           -2235.831508936122,
           -2233.268707118562,
           -2230.246955807444,
           -2226.6858772196183,
           -2222.491725538639,
           -2217.555440940788,
           -2211.7505305737286,
           -2204.9308086042283,
           -2196.9280533996453,
           -2187.549675546784,
           -2176.576537839819,
           -2163.7611294130056,
           -2148.826371808433,
           -2131.465424081135,
           -2111.3429529533378,
           -2088.0984333479328,
           -2061.3521278920903,
           -2030.7144353592676,
           -1995.7992612469795,
           -1956.2419034803165,
           -1911.721614208574,
           -1861.988455885776,
           -1806.8933069002107,
           -1746.4189347462295,
           -1680.7090681799186,
           -1610.0915776188122,
           -1535.0914954647492,
           -1456.429956437427,
           -1375.0063905604036,
           -1291.863420443341,
           -1208.136579556659,
           -1124.9936094395964,
           -1043.570043562573,
           -964.9085045352508,
           -889.908422381188,
           -819.2909318200814,
           -753.5810652537702,
           -693.1066930997895,
           -638.0115441142241,
           -588.278385791426,
           -543.7580965196835,
           -504.2007387530205,
           -469.28556464073233,
           -438.6478721079097,
           -411.9015666520671,
           -388.657047046662,
           -368.5345759188651,
           -351.17362819156693,
           -336.2388705869943,
           -323.4234621601808,
           -312.4503244532163,
           -303.0719466003545,
           -295.0691913957718,
           -288.24946942627105,
           -282.4445590592124,
           -277.5082744613614,
           -273.3141227803819,
           -269.7530441925559,
           -266.73129288143826,
           -264.16849106387787,
           -261.99586989217624,
           -260.1546986408642,
           -258.5948955382634,
           -257.27380872965114,
           -256.15515323190465,
           -255.2080886570054,
           -254.40642242488187,
           -253.72792377925003,
           -253.15373489731175,
           -252.66786656108843,
           -252.25676711059143,
           -251.90895464599473,
           -251.61470363727267,
           -251.3657782065003,
           -251.15520535587922,
           -250.97708231887904,
           -250.82641301417996,
           -250.69896928764123,
           -250.59117324365522,
           -250.49999750231567,
           -250.42288068138808,
           -250.35765580049275,
           -250.30248964703594,
           -250.25583143648666,
           -250.21636935010406,
           -250.18299374699637,
           -250.15476602954624,
           -250.1308922962786,
           -250.1107010480631,
           -250.09362432553138,
           -250.0791817506578,
           -250.06696702611276,
           -250.05663651439747,
           -250.04789957675143,
           -250.04051040095197,
           -250.03426108874515,
           -250.0289758088935,
           -250.02450585166747,
           -250.0207254458744,
           -250.01752822090285,
           -250.0148242143553,
           -250.0125373411616,
           -250.01060325302305,
           -250.00896752799883,
           -250.00758413932866
          ]
         ]
        }
       ],
       "layout": {
        "autosize": true,
        "template": {
         "data": {
          "bar": [
           {
            "error_x": {
             "color": "#f2f5fa"
            },
            "error_y": {
             "color": "#f2f5fa"
            },
            "marker": {
             "line": {
              "color": "rgb(17,17,17)",
              "width": 0.5
             },
             "pattern": {
              "fillmode": "overlay",
              "size": 10,
              "solidity": 0.2
             }
            },
            "type": "bar"
           }
          ],
          "barpolar": [
           {
            "marker": {
             "line": {
              "color": "rgb(17,17,17)",
              "width": 0.5
             },
             "pattern": {
              "fillmode": "overlay",
              "size": 10,
              "solidity": 0.2
             }
            },
            "type": "barpolar"
           }
          ],
          "carpet": [
           {
            "aaxis": {
             "endlinecolor": "#A2B1C6",
             "gridcolor": "#506784",
             "linecolor": "#506784",
             "minorgridcolor": "#506784",
             "startlinecolor": "#A2B1C6"
            },
            "baxis": {
             "endlinecolor": "#A2B1C6",
             "gridcolor": "#506784",
             "linecolor": "#506784",
             "minorgridcolor": "#506784",
             "startlinecolor": "#A2B1C6"
            },
            "type": "carpet"
           }
          ],
          "choropleth": [
           {
            "colorbar": {
             "outlinewidth": 0,
             "ticks": ""
            },
            "type": "choropleth"
           }
          ],
          "contour": [
           {
            "colorbar": {
             "outlinewidth": 0,
             "ticks": ""
            },
            "colorscale": [
             [
              0,
              "#0d0887"
             ],
             [
              0.1111111111111111,
              "#46039f"
             ],
             [
              0.2222222222222222,
              "#7201a8"
             ],
             [
              0.3333333333333333,
              "#9c179e"
             ],
             [
              0.4444444444444444,
              "#bd3786"
             ],
             [
              0.5555555555555556,
              "#d8576b"
             ],
             [
              0.6666666666666666,
              "#ed7953"
             ],
             [
              0.7777777777777778,
              "#fb9f3a"
             ],
             [
              0.8888888888888888,
              "#fdca26"
             ],
             [
              1,
              "#f0f921"
             ]
            ],
            "type": "contour"
           }
          ],
          "contourcarpet": [
           {
            "colorbar": {
             "outlinewidth": 0,
             "ticks": ""
            },
            "type": "contourcarpet"
           }
          ],
          "heatmap": [
           {
            "colorbar": {
             "outlinewidth": 0,
             "ticks": ""
            },
            "colorscale": [
             [
              0,
              "#0d0887"
             ],
             [
              0.1111111111111111,
              "#46039f"
             ],
             [
              0.2222222222222222,
              "#7201a8"
             ],
             [
              0.3333333333333333,
              "#9c179e"
             ],
             [
              0.4444444444444444,
              "#bd3786"
             ],
             [
              0.5555555555555556,
              "#d8576b"
             ],
             [
              0.6666666666666666,
              "#ed7953"
             ],
             [
              0.7777777777777778,
              "#fb9f3a"
             ],
             [
              0.8888888888888888,
              "#fdca26"
             ],
             [
              1,
              "#f0f921"
             ]
            ],
            "type": "heatmap"
           }
          ],
          "heatmapgl": [
           {
            "colorbar": {
             "outlinewidth": 0,
             "ticks": ""
            },
            "colorscale": [
             [
              0,
              "#0d0887"
             ],
             [
              0.1111111111111111,
              "#46039f"
             ],
             [
              0.2222222222222222,
              "#7201a8"
             ],
             [
              0.3333333333333333,
              "#9c179e"
             ],
             [
              0.4444444444444444,
              "#bd3786"
             ],
             [
              0.5555555555555556,
              "#d8576b"
             ],
             [
              0.6666666666666666,
              "#ed7953"
             ],
             [
              0.7777777777777778,
              "#fb9f3a"
             ],
             [
              0.8888888888888888,
              "#fdca26"
             ],
             [
              1,
              "#f0f921"
             ]
            ],
            "type": "heatmapgl"
           }
          ],
          "histogram": [
           {
            "marker": {
             "pattern": {
              "fillmode": "overlay",
              "size": 10,
              "solidity": 0.2
             }
            },
            "type": "histogram"
           }
          ],
          "histogram2d": [
           {
            "colorbar": {
             "outlinewidth": 0,
             "ticks": ""
            },
            "colorscale": [
             [
              0,
              "#0d0887"
             ],
             [
              0.1111111111111111,
              "#46039f"
             ],
             [
              0.2222222222222222,
              "#7201a8"
             ],
             [
              0.3333333333333333,
              "#9c179e"
             ],
             [
              0.4444444444444444,
              "#bd3786"
             ],
             [
              0.5555555555555556,
              "#d8576b"
             ],
             [
              0.6666666666666666,
              "#ed7953"
             ],
             [
              0.7777777777777778,
              "#fb9f3a"
             ],
             [
              0.8888888888888888,
              "#fdca26"
             ],
             [
              1,
              "#f0f921"
             ]
            ],
            "type": "histogram2d"
           }
          ],
          "histogram2dcontour": [
           {
            "colorbar": {
             "outlinewidth": 0,
             "ticks": ""
            },
            "colorscale": [
             [
              0,
              "#0d0887"
             ],
             [
              0.1111111111111111,
              "#46039f"
             ],
             [
              0.2222222222222222,
              "#7201a8"
             ],
             [
              0.3333333333333333,
              "#9c179e"
             ],
             [
              0.4444444444444444,
              "#bd3786"
             ],
             [
              0.5555555555555556,
              "#d8576b"
             ],
             [
              0.6666666666666666,
              "#ed7953"
             ],
             [
              0.7777777777777778,
              "#fb9f3a"
             ],
             [
              0.8888888888888888,
              "#fdca26"
             ],
             [
              1,
              "#f0f921"
             ]
            ],
            "type": "histogram2dcontour"
           }
          ],
          "mesh3d": [
           {
            "colorbar": {
             "outlinewidth": 0,
             "ticks": ""
            },
            "type": "mesh3d"
           }
          ],
          "parcoords": [
           {
            "line": {
             "colorbar": {
              "outlinewidth": 0,
              "ticks": ""
             }
            },
            "type": "parcoords"
           }
          ],
          "pie": [
           {
            "automargin": true,
            "type": "pie"
           }
          ],
          "scatter": [
           {
            "marker": {
             "line": {
              "color": "#283442"
             }
            },
            "type": "scatter"
           }
          ],
          "scatter3d": [
           {
            "line": {
             "colorbar": {
              "outlinewidth": 0,
              "ticks": ""
             }
            },
            "marker": {
             "colorbar": {
              "outlinewidth": 0,
              "ticks": ""
             }
            },
            "type": "scatter3d"
           }
          ],
          "scattercarpet": [
           {
            "marker": {
             "colorbar": {
              "outlinewidth": 0,
              "ticks": ""
             }
            },
            "type": "scattercarpet"
           }
          ],
          "scattergeo": [
           {
            "marker": {
             "colorbar": {
              "outlinewidth": 0,
              "ticks": ""
             }
            },
            "type": "scattergeo"
           }
          ],
          "scattergl": [
           {
            "marker": {
             "line": {
              "color": "#283442"
             }
            },
            "type": "scattergl"
           }
          ],
          "scattermapbox": [
           {
            "marker": {
             "colorbar": {
              "outlinewidth": 0,
              "ticks": ""
             }
            },
            "type": "scattermapbox"
           }
          ],
          "scatterpolar": [
           {
            "marker": {
             "colorbar": {
              "outlinewidth": 0,
              "ticks": ""
             }
            },
            "type": "scatterpolar"
           }
          ],
          "scatterpolargl": [
           {
            "marker": {
             "colorbar": {
              "outlinewidth": 0,
              "ticks": ""
             }
            },
            "type": "scatterpolargl"
           }
          ],
          "scatterternary": [
           {
            "marker": {
             "colorbar": {
              "outlinewidth": 0,
              "ticks": ""
             }
            },
            "type": "scatterternary"
           }
          ],
          "surface": [
           {
            "colorbar": {
             "outlinewidth": 0,
             "ticks": ""
            },
            "colorscale": [
             [
              0,
              "#0d0887"
             ],
             [
              0.1111111111111111,
              "#46039f"
             ],
             [
              0.2222222222222222,
              "#7201a8"
             ],
             [
              0.3333333333333333,
              "#9c179e"
             ],
             [
              0.4444444444444444,
              "#bd3786"
             ],
             [
              0.5555555555555556,
              "#d8576b"
             ],
             [
              0.6666666666666666,
              "#ed7953"
             ],
             [
              0.7777777777777778,
              "#fb9f3a"
             ],
             [
              0.8888888888888888,
              "#fdca26"
             ],
             [
              1,
              "#f0f921"
             ]
            ],
            "type": "surface"
           }
          ],
          "table": [
           {
            "cells": {
             "fill": {
              "color": "#506784"
             },
             "line": {
              "color": "rgb(17,17,17)"
             }
            },
            "header": {
             "fill": {
              "color": "#2a3f5f"
             },
             "line": {
              "color": "rgb(17,17,17)"
             }
            },
            "type": "table"
           }
          ]
         },
         "layout": {
          "annotationdefaults": {
           "arrowcolor": "#f2f5fa",
           "arrowhead": 0,
           "arrowwidth": 1
          },
          "autotypenumbers": "strict",
          "coloraxis": {
           "colorbar": {
            "outlinewidth": 0,
            "ticks": ""
           }
          },
          "colorscale": {
           "diverging": [
            [
             0,
             "#8e0152"
            ],
            [
             0.1,
             "#c51b7d"
            ],
            [
             0.2,
             "#de77ae"
            ],
            [
             0.3,
             "#f1b6da"
            ],
            [
             0.4,
             "#fde0ef"
            ],
            [
             0.5,
             "#f7f7f7"
            ],
            [
             0.6,
             "#e6f5d0"
            ],
            [
             0.7,
             "#b8e186"
            ],
            [
             0.8,
             "#7fbc41"
            ],
            [
             0.9,
             "#4d9221"
            ],
            [
             1,
             "#276419"
            ]
           ],
           "sequential": [
            [
             0,
             "#0d0887"
            ],
            [
             0.1111111111111111,
             "#46039f"
            ],
            [
             0.2222222222222222,
             "#7201a8"
            ],
            [
             0.3333333333333333,
             "#9c179e"
            ],
            [
             0.4444444444444444,
             "#bd3786"
            ],
            [
             0.5555555555555556,
             "#d8576b"
            ],
            [
             0.6666666666666666,
             "#ed7953"
            ],
            [
             0.7777777777777778,
             "#fb9f3a"
            ],
            [
             0.8888888888888888,
             "#fdca26"
            ],
            [
             1,
             "#f0f921"
            ]
           ],
           "sequentialminus": [
            [
             0,
             "#0d0887"
            ],
            [
             0.1111111111111111,
             "#46039f"
            ],
            [
             0.2222222222222222,
             "#7201a8"
            ],
            [
             0.3333333333333333,
             "#9c179e"
            ],
            [
             0.4444444444444444,
             "#bd3786"
            ],
            [
             0.5555555555555556,
             "#d8576b"
            ],
            [
             0.6666666666666666,
             "#ed7953"
            ],
            [
             0.7777777777777778,
             "#fb9f3a"
            ],
            [
             0.8888888888888888,
             "#fdca26"
            ],
            [
             1,
             "#f0f921"
            ]
           ]
          },
          "colorway": [
           "#636efa",
           "#EF553B",
           "#00cc96",
           "#ab63fa",
           "#FFA15A",
           "#19d3f3",
           "#FF6692",
           "#B6E880",
           "#FF97FF",
           "#FECB52"
          ],
          "font": {
           "color": "#f2f5fa"
          },
          "geo": {
           "bgcolor": "rgb(17,17,17)",
           "lakecolor": "rgb(17,17,17)",
           "landcolor": "rgb(17,17,17)",
           "showlakes": true,
           "showland": true,
           "subunitcolor": "#506784"
          },
          "hoverlabel": {
           "align": "left"
          },
          "hovermode": "closest",
          "mapbox": {
           "style": "dark"
          },
          "paper_bgcolor": "rgb(17,17,17)",
          "plot_bgcolor": "rgb(17,17,17)",
          "polar": {
           "angularaxis": {
            "gridcolor": "#506784",
            "linecolor": "#506784",
            "ticks": ""
           },
           "bgcolor": "rgb(17,17,17)",
           "radialaxis": {
            "gridcolor": "#506784",
            "linecolor": "#506784",
            "ticks": ""
           }
          },
          "scene": {
           "xaxis": {
            "backgroundcolor": "rgb(17,17,17)",
            "gridcolor": "#506784",
            "gridwidth": 2,
            "linecolor": "#506784",
            "showbackground": true,
            "ticks": "",
            "zerolinecolor": "#C8D4E3"
           },
           "yaxis": {
            "backgroundcolor": "rgb(17,17,17)",
            "gridcolor": "#506784",
            "gridwidth": 2,
            "linecolor": "#506784",
            "showbackground": true,
            "ticks": "",
            "zerolinecolor": "#C8D4E3"
           },
           "zaxis": {
            "backgroundcolor": "rgb(17,17,17)",
            "gridcolor": "#506784",
            "gridwidth": 2,
            "linecolor": "#506784",
            "showbackground": true,
            "ticks": "",
            "zerolinecolor": "#C8D4E3"
           }
          },
          "shapedefaults": {
           "line": {
            "color": "#f2f5fa"
           }
          },
          "sliderdefaults": {
           "bgcolor": "#C8D4E3",
           "bordercolor": "rgb(17,17,17)",
           "borderwidth": 1,
           "tickwidth": 0
          },
          "ternary": {
           "aaxis": {
            "gridcolor": "#506784",
            "linecolor": "#506784",
            "ticks": ""
           },
           "baxis": {
            "gridcolor": "#506784",
            "linecolor": "#506784",
            "ticks": ""
           },
           "bgcolor": "rgb(17,17,17)",
           "caxis": {
            "gridcolor": "#506784",
            "linecolor": "#506784",
            "ticks": ""
           }
          },
          "title": {
           "x": 0.05
          },
          "updatemenudefaults": {
           "bgcolor": "#506784",
           "borderwidth": 0
          },
          "xaxis": {
           "automargin": true,
           "gridcolor": "#283442",
           "linecolor": "#506784",
           "ticks": "",
           "title": {
            "standoff": 15
           },
           "zerolinecolor": "#283442",
           "zerolinewidth": 2
          },
          "yaxis": {
           "automargin": true,
           "gridcolor": "#283442",
           "linecolor": "#506784",
           "ticks": "",
           "title": {
            "standoff": 15
           },
           "zerolinecolor": "#283442",
           "zerolinewidth": 2
          }
         }
        },
        "title": {
         "text": "Test"
        }
       }
      }
     },
     "metadata": {},
     "output_type": "display_data"
    }
   ],
   "source": [
    "fig = go.Figure(data=[go.Surface(x=X, y=Y,z=Z)])\n",
    "fig.update_traces(contours_z=dict(show=True, usecolormap=True,\n",
    "                                  highlightcolor=\"limegreen\", project_z=True))\n",
    "\n",
    "\n",
    "fig.update_layout(title='Test', autosize=True,\n",
    "                  template=\"plotly_dark\"\n",
    "                  #scene_camera_eye=dict(x=1.87, y=0.88, z=-0.64),\n",
    "                  #width=500, height=500,\n",
    "                  #margin=dict(l=65, r=50, b=65, t=90)\n",
    ")\n"
   ]
  },
  {
   "cell_type": "code",
   "execution_count": null,
   "metadata": {},
   "outputs": [],
   "source": []
  }
 ],
 "metadata": {
  "kernelspec": {
   "display_name": "idealized-flow-over-topography",
   "language": "python",
   "name": "python3"
  },
  "language_info": {
   "codemirror_mode": {
    "name": "ipython",
    "version": 3
   },
   "file_extension": ".py",
   "mimetype": "text/x-python",
   "name": "python",
   "nbconvert_exporter": "python",
   "pygments_lexer": "ipython3",
   "version": "3.12.1"
  }
 },
 "nbformat": 4,
 "nbformat_minor": 2
}
